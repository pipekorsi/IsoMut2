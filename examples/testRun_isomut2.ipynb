{
 "cells": [
  {
   "cell_type": "code",
   "execution_count": 1,
   "metadata": {},
   "outputs": [
    {
     "name": "stdout",
     "output_type": "stream",
     "text": [
      "Tue Jan  9 23:47:36 CET 2018\r\n"
     ]
    }
   ],
   "source": [
    "!date"
   ]
  },
  {
   "cell_type": "code",
   "execution_count": 2,
   "metadata": {
    "collapsed": true
   },
   "outputs": [],
   "source": [
    "import os\n",
    "os.mkdir('testIsoMut2')\n",
    "os.chdir('testIsoMut2')"
   ]
  },
  {
   "cell_type": "code",
   "execution_count": 3,
   "metadata": {},
   "outputs": [
    {
     "name": "stderr",
     "output_type": "stream",
     "text": [
      "Cloning into 'IsoMut2'...\n"
     ]
    }
   ],
   "source": [
    "%%bash\n",
    "\n",
    "git clone https://github.com/pipekorsi/IsoMut2.git\n",
    "cd IsoMut2/src\n",
    "\n",
    "gcc -c -O3 isomut2_lib.c fisher.c  -W -Wall\n",
    "gcc -O3 -o isomut2 isomut2.c isomut2_lib.o  fisher.o -lm -W -Wall\n",
    "\n",
    "cd .."
   ]
  },
  {
   "cell_type": "code",
   "execution_count": 4,
   "metadata": {
    "collapsed": true
   },
   "outputs": [],
   "source": [
    "os.chdir('IsoMut2/')"
   ]
  },
  {
   "cell_type": "code",
   "execution_count": 5,
   "metadata": {},
   "outputs": [
    {
     "name": "stdout",
     "output_type": "stream",
     "text": [
      "Writing isomut2_example_script.py\n"
     ]
    }
   ],
   "source": [
    "%%writefile isomut2_example_script.py\n",
    "#!/usr/bin/env python3\n",
    "\n",
    "#################################################\n",
    "# importing the wrapper\n",
    "#################################################\n",
    "import sys,os\n",
    "#add path for isomut_wrappers.py\n",
    "#\tif not running it from the isomut directory\n",
    "#\tchange os.getcwd for the path to it\n",
    "sys.path.append(os.getcwd()+'/src')\n",
    "\n",
    "#load the parallel wrapper function\n",
    "from isomut2_wrappers import run_isomut2\n",
    "\n",
    "#add path for isomut, if its in the path comment/delete this line\n",
    "#\tif not running it from the isomut directory\n",
    "#\tchange os.getcwd for the path to it\n",
    "os.environ[\"PATH\"] += os.pathsep + os.getcwd() +'/src'\n",
    "\n",
    "\n",
    "#using parameter dictionary, beacause there are awful lot of parameters\n",
    "params=dict()\n",
    "\n",
    "\n",
    "#################################################\n",
    "# DATA: make sure to modify\n",
    "#################################################\n",
    "#reference genome\n",
    "params['ref_fasta']=\"/nagyvinyok/adat86/sotejedlik/orsi/tesaro_human_ref/GRCh38pa_EBV.fa\"\n",
    "#input dir output dir\n",
    "params['input_dir']='/nagyvinyok/adat86/sotejedlik/orsi/tesaro_data/'\n",
    "params['output_dir']='/nagyvinyok/adat87/home/orsi/IsoMutv2.0/testIsoMut2/IsoMut2/results'\n",
    "params['bam_filenames']=['TE01_realign.bam',\n",
    "                         'TE02_realign.bam',\n",
    "                         'TE03_realign.bam',\n",
    "                         'TE04_realign.bam',\n",
    "                         'TE05_realign.bam',\n",
    "                         'TE06_realign.bam',\n",
    "                         'TE07_realign.bam',\n",
    "                         'TE08_realign.bam',\n",
    "                         'TE09_realign.bam',\n",
    "                         'TE10_realign.bam',\n",
    "                         'TE11_realign.bam',\n",
    "                         'TE22_realign.bam',\n",
    "                         'TE23_realign.bam',\n",
    "                         'TE24_realign.bam',\n",
    "                         'TE26_realign.bam',\n",
    "                         'TE27_realign.bam',\n",
    "                         'TE28_realign.bam',\n",
    "                         'TE29_realign.bam',\n",
    "                         'TE30_realign.bam',\n",
    "                         'TE31_realign.bam',\n",
    "                         'TE32_realign.bam',\n",
    "                         'TE33_realign.bam']\n",
    "# chromosomes to include\n",
    "params['chromosomes'] = ['20']\n",
    "\n",
    "#################################################\n",
    "# PLOIDY: make sure to modify \n",
    "# (default ploidy is 2, chr20 is triploid in \n",
    "# this case)\n",
    "#################################################\n",
    "params['constant_ploidy'] = 3\n",
    "\n",
    "#################################################\n",
    "# MUTATION TYPE\n",
    "# default: searching for unique mutations only\n",
    "# (if False, running IsoMut takes much longer!)\n",
    "#################################################\n",
    "params['unique_mutations_only']=False\n",
    "\n",
    "#################################################\n",
    "# OPTIMISATION + HTML REPORT\n",
    "# default: False\n",
    "# if True, make sure to set\n",
    "#     - params['control_samples']\n",
    "#     - params['FPs_per_genome']\n",
    "#################################################\n",
    "params['HTML_report']=True\n",
    "params['control_samples'] = ['TE01_realign.bam', 'TE23_realign.bam']\n",
    "params['FPs_per_genome'] = 5\n",
    "\n",
    "#################################################\n",
    "# PARALELLISATION\n",
    "# default values can be kept\n",
    "#################################################\n",
    "# minimum number of blocks to run\n",
    "# usually there will be 10-20 more blocks\n",
    "params['n_min_block']=100\n",
    "#number of concurrent processes to run\n",
    "params['n_conc_blocks']=4\n",
    "\n",
    "#################################################\n",
    "# MUTATION CALLING PARAMETERS\n",
    "# default values can be kept\n",
    "#################################################\n",
    "params['min_sample_freq']=0.21\n",
    "params['min_other_ref_freq']=0.93\n",
    "params['cov_limit']=5\n",
    "params['base_quality_limit']=30\n",
    "params['min_gap_dist_snv']=0\n",
    "params['min_gap_dist_indel']=20\n",
    "\n",
    "\n",
    "#################################################\n",
    "# RUNNING IsoMut2\n",
    "#################################################\n",
    "run_isomut2(params)"
   ]
  },
  {
   "cell_type": "code",
   "execution_count": 6,
   "metadata": {},
   "outputs": [
    {
     "name": "stdout",
     "output_type": "stream",
     "text": [
      "Submitted batch job 215\n"
     ]
    }
   ],
   "source": [
    "%%bash\n",
    "\n",
    "sbatch -c 24 --mem 15G isomut2_example_script.py"
   ]
  },
  {
   "cell_type": "code",
   "execution_count": null,
   "metadata": {
    "collapsed": true
   },
   "outputs": [],
   "source": []
  }
 ],
 "metadata": {
  "kernelspec": {
   "display_name": "Python 3",
   "language": "python",
   "name": "python3"
  },
  "language_info": {
   "codemirror_mode": {
    "name": "ipython",
    "version": 3
   },
   "file_extension": ".py",
   "mimetype": "text/x-python",
   "name": "python",
   "nbconvert_exporter": "python",
   "pygments_lexer": "ipython3",
   "version": "3.5.3"
  }
 },
 "nbformat": 4,
 "nbformat_minor": 2
}
